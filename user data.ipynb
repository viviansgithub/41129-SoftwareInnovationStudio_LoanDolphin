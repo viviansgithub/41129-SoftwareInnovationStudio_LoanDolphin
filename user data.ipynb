{
 "cells": [
  {
   "cell_type": "code",
   "execution_count": 1,
   "metadata": {},
   "outputs": [],
   "source": [
    "import sqlite3"
   ]
  },
  {
   "cell_type": "code",
   "execution_count": 2,
   "metadata": {},
   "outputs": [],
   "source": [
    "# Connect to the SQLite database\n",
    "conn = sqlite3.connect('loan_data.db')\n",
    "cursor = conn.cursor()"
   ]
  },
  {
   "cell_type": "code",
   "execution_count": 3,
   "metadata": {},
   "outputs": [
    {
     "data": {
      "text/plain": [
       "<sqlite3.Cursor at 0x7fdad036f440>"
      ]
     },
     "execution_count": 3,
     "metadata": {},
     "output_type": "execute_result"
    }
   ],
   "source": [
    "# Create a table to store user data (adjust fields as needed)\n",
    "cursor.execute('''\n",
    "    CREATE TABLE IF NOT EXISTS user_loan_data (\n",
    "        id INTEGER PRIMARY KEY AUTOINCREMENT,\n",
    "        age INTEGER,\n",
    "        income REAL,\n",
    "        credit_score INTEGER,\n",
    "        loan_amount REAL,\n",
    "        loan_term INTEGER,\n",
    "        education TEXT,\n",
    "        employment TEXT\n",
    "    )\n",
    "''')"
   ]
  },
  {
   "cell_type": "code",
   "execution_count": 4,
   "metadata": {},
   "outputs": [],
   "source": [
    "# Function to insert user data into the database\n",
    "def insert_user_data(age, income, credit_score, loan_amount, loan_term, education, employment):\n",
    "    try:\n",
    "        cursor.execute('''\n",
    "            INSERT INTO user_loan_data (age, income, credit_score, loan_amount, loan_term, education, employment)\n",
    "            VALUES (?, ?, ?, ?, ?, ?, ?)\n",
    "        ''', (age, income, credit_score, loan_amount, loan_term, education, employment))\n",
    "        conn.commit()\n",
    "        print(\"User data inserted successfully.\")\n",
    "    except sqlite3.Error as e:\n",
    "        print(f\"Error inserting user data: {e}\")"
   ]
  },
  {
   "cell_type": "code",
   "execution_count": 5,
   "metadata": {},
   "outputs": [],
   "source": [
    "# Function to show user data from the database\n",
    "def show_user_data():\n",
    "    cursor.execute('SELECT * FROM user_loan_data')\n",
    "    data = cursor.fetchall()\n",
    "    if data:\n",
    "        print(\"User Loan Data:\")\n",
    "        for row in data:\n",
    "            print(\"ID:\", row[0])\n",
    "            print(\"Age:\", row[1])\n",
    "            print(\"Income:\", row[2])\n",
    "            print(\"Credit Score:\", row[3])\n",
    "            print(\"Loan Amount:\", row[4])\n",
    "            print(\"Loan Term:\", row[5])\n",
    "            print(\"Education:\", row[6])\n",
    "            print(\"Employment:\", row[7])\n",
    "            print()\n",
    "    else:\n",
    "        print(\"No user data found in the database.\")"
   ]
  },
  {
   "cell_type": "code",
   "execution_count": 6,
   "metadata": {},
   "outputs": [],
   "source": [
    "# Function to show user data by ID\n",
    "def show_user_data_by_id(user_id):\n",
    "    cursor.execute('SELECT * FROM user_loan_data WHERE id = ?', (user_id,))\n",
    "    data = cursor.fetchone()\n",
    "    if data:\n",
    "        print(\"User Loan Data:\")\n",
    "        print(\"ID:\", data[0])\n",
    "        print(\"Age:\", data[1])\n",
    "        print(\"Income:\", data[2])\n",
    "        print(\"Credit Score:\", data[3])\n",
    "        print(\"Loan Amount:\", data[4])\n",
    "        print(\"Loan Term:\", data[5])\n",
    "        print(\"Education:\", data[6])\n",
    "        print(\"Employment:\", data[7])\n",
    "    else:\n",
    "        print(\"No user data found with the specified ID.\")"
   ]
  },
  {
   "cell_type": "code",
   "execution_count": 7,
   "metadata": {},
   "outputs": [],
   "source": [
    "# Function to update user data by ID\n",
    "def update_user_data(user_id, age, income, credit_score, loan_amount, loan_term, education, employment):\n",
    "    try:\n",
    "        cursor.execute('''\n",
    "            UPDATE user_loan_data\n",
    "            SET age = ?, income = ?, credit_score = ?, loan_amount = ?, loan_term = ?, education = ?, employment = ?\n",
    "            WHERE id = ?\n",
    "        ''', (age, income, credit_score, loan_amount, loan_term, education, employment, user_id))\n",
    "        conn.commit()\n",
    "        print(\"User data updated successfully.\")\n",
    "    except sqlite3.Error as e:\n",
    "        print(f\"Error updating user data: {e}\")"
   ]
  },
  {
   "cell_type": "code",
   "execution_count": 8,
   "metadata": {},
   "outputs": [],
   "source": [
    "# Function to delete user data by ID\n",
    "def delete_user_data(user_id):\n",
    "    try:\n",
    "        cursor.execute('DELETE FROM user_loan_data WHERE id = ?', (user_id,))\n",
    "        conn.commit()\n",
    "        print(\"User data deleted successfully.\")\n",
    "    except sqlite3.Error as e:\n",
    "        print(f\"Error deleting user data: {e}\")"
   ]
  },
  {
   "cell_type": "code",
   "execution_count": 9,
   "metadata": {},
   "outputs": [
    {
     "name": "stdout",
     "output_type": "stream",
     "text": [
      "User data inserted successfully.\n"
     ]
    }
   ],
   "source": [
    "# Sample usage\n",
    "insert_user_data(30, 60000, 700, 20000, 36, 'Bachelor', 'Full-Time')"
   ]
  },
  {
   "cell_type": "code",
   "execution_count": 10,
   "metadata": {},
   "outputs": [
    {
     "name": "stdout",
     "output_type": "stream",
     "text": [
      "No user data found with the specified ID.\n"
     ]
    }
   ],
   "source": [
    "# Show user data by ID\n",
    "show_user_data_by_id(1)"
   ]
  },
  {
   "cell_type": "code",
   "execution_count": 11,
   "metadata": {},
   "outputs": [
    {
     "name": "stdout",
     "output_type": "stream",
     "text": [
      "User data updated successfully.\n"
     ]
    }
   ],
   "source": [
    "# Update user data by ID\n",
    "update_user_data(1, 31, 65000, 720, 22000, 48, 'Master', 'Part-Time')\n"
   ]
  },
  {
   "cell_type": "code",
   "execution_count": 12,
   "metadata": {},
   "outputs": [
    {
     "name": "stdout",
     "output_type": "stream",
     "text": [
      "User data deleted successfully.\n"
     ]
    }
   ],
   "source": [
    "# Delete user data by ID\n",
    "delete_user_data(1)"
   ]
  }
 ],
 "metadata": {
  "kernelspec": {
   "display_name": "Python 3 (ipykernel)",
   "language": "python",
   "name": "python3"
  },
  "language_info": {
   "codemirror_mode": {
    "name": "ipython",
    "version": 3
   },
   "file_extension": ".py",
   "mimetype": "text/x-python",
   "name": "python",
   "nbconvert_exporter": "python",
   "pygments_lexer": "ipython3",
   "version": "3.10.8"
  },
  "orig_nbformat": 4
 },
 "nbformat": 4,
 "nbformat_minor": 2
}
